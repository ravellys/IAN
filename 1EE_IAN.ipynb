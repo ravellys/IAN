{
  "nbformat": 4,
  "nbformat_minor": 0,
  "metadata": {
    "colab": {
      "name": "1EE_IAN.ipynb",
      "provenance": [],
      "collapsed_sections": [],
      "include_colab_link": true
    },
    "kernelspec": {
      "name": "python3",
      "display_name": "Python 3"
    }
  },
  "cells": [
    {
      "cell_type": "markdown",
      "metadata": {
        "id": "view-in-github",
        "colab_type": "text"
      },
      "source": [
        "<a href=\"https://colab.research.google.com/github/ravellys/IAN/blob/main/1EE_IAN.ipynb\" target=\"_parent\"><img src=\"https://colab.research.google.com/assets/colab-badge.svg\" alt=\"Open In Colab\"/></a>"
      ]
    },
    {
      "cell_type": "markdown",
      "metadata": {
        "id": "Kt5BlKzObh0a"
      },
      "source": [
        "# 1º Exercício Escolar da disciplina Introdução as Aplicações Nucleares\n",
        "## Aluno: Lucas Ravellys\n",
        "## Instituição: Universidade Federal de Pernambuco\n",
        "## Departamento: Departamento de Enegia Nuclea (DEN)\n",
        "## Programa: Programa de pós graduação em tecnologias energéticas e nucleares (PROTEN)\n",
        "\n",
        "<style>\n",
        "  h1 {\n",
        "    text-align:center;\n",
        "  }\n",
        "\n",
        "</style>\n",
        "\n",
        "<br>"
      ]
    },
    {
      "cell_type": "markdown",
      "metadata": {
        "id": "LYmhEI8SYFQS"
      },
      "source": [
        "# 1)Determine a energia de ligação e a energia de ligação por núcleon do isótopo do európio Eu(A=152; Z=63"
      ]
    },
    {
      "cell_type": "code",
      "metadata": {
        "id": "4BrRgss8WcuW"
      },
      "source": [
        "# dados gerais\n",
        "c2 = 931.5 # Mev\n",
        "Ma_H1 = 1.007825; # u\n",
        "mn = 1.008665\n",
        "\n",
        "# função da Energia de Ligação\n",
        "def EL(Z, N, Ma):\n",
        "  return (Z*Ma_H1 + N*mn - Ma)*c2\n",
        "\n",
        "# função da Energia de Ligação por núcleon\n",
        "def ELN(Z, N, Ma, A):\n",
        "  return EL(Z,N,Ma)/A"
      ],
      "execution_count": 1,
      "outputs": []
    },
    {
      "cell_type": "code",
      "metadata": {
        "colab": {
          "base_uri": "https://localhost:8080/"
        },
        "id": "HO1A69WTWLtz",
        "outputId": "b77eebba-cae0-40f4-881b-a8206c29545a"
      },
      "source": [
        "# dados da questão\n",
        "A = 152\n",
        "Z = 63\n",
        "N = A - Z\n",
        "Ma = 151.921742 #u\n",
        "\n",
        "# resolução\n",
        "print(f\" Energia de Ligação: {EL(Z, N, Ma)} Mev\")\n",
        "print(f\" Energia de Ligação por Núcleon: {ELN(Z, N, Ma, A)} Mev/núcleon\")"
      ],
      "execution_count": 2,
      "outputs": [
        {
          "output_type": "stream",
          "text": [
            " Energia de Ligação: 1250.4623670000085 Mev\n",
            " Energia de Ligação por Núcleon: 8.226726098684267 Mev/núcleon\n"
          ],
          "name": "stdout"
        }
      ]
    },
    {
      "cell_type": "markdown",
      "metadata": {
        "id": "Y_1jM4MnTk_Q"
      },
      "source": [
        "# 2) Um isótopo radioativo de mercúrio, 197Hg, transforma-se em ouro, 197Au, com uma constante de decaimento igual a 0,0108 h-1. Determine:"
      ]
    },
    {
      "cell_type": "markdown",
      "metadata": {
        "id": "9l2kDUFSTwq8"
      },
      "source": [
        "## a) a meia-vida do isótopo, em horas"
      ]
    },
    {
      "cell_type": "code",
      "metadata": {
        "id": "e7uDPk5LTjbA"
      },
      "source": [
        "import numpy as np"
      ],
      "execution_count": 4,
      "outputs": []
    },
    {
      "cell_type": "code",
      "metadata": {
        "colab": {
          "base_uri": "https://localhost:8080/"
        },
        "id": "WJPlwC0BWT0r",
        "outputId": "3fc7efeb-68b9-4148-a107-f43b07bdd820"
      },
      "source": [
        "decaimento = 0.0108 # h^-1\n",
        "tempo_meia_vida = np.log(2)/decaimento\n",
        "print(f\" o tempo de meia vida é de {round(tempo_meia_vida, 2)} horas\")"
      ],
      "execution_count": 5,
      "outputs": [
        {
          "output_type": "stream",
          "text": [
            " o tempo de meia vida é de 64.18 horas\n"
          ],
          "name": "stdout"
        }
      ]
    },
    {
      "cell_type": "markdown",
      "metadata": {
        "id": "JBCCmUuTUiMZ"
      },
      "source": [
        "## b) a fração de uma amostra desse isótopo que continua a existir após 27 dias"
      ]
    },
    {
      "cell_type": "code",
      "metadata": {
        "colab": {
          "base_uri": "https://localhost:8080/"
        },
        "id": "XKiCJPchUf25",
        "outputId": "3286beb0-2d48-455e-b618-be19782de829"
      },
      "source": [
        "import numpy as np\n",
        "def fracao_amostra(decaimento, t):\n",
        "  return np.exp(-decaimento*t)\n",
        "\n",
        "f_27d = fracao_amostra(decaimento, t=27*24)\n",
        "print( f\"a fração restante é de {round(f_27d, 5)}\")"
      ],
      "execution_count": 7,
      "outputs": [
        {
          "output_type": "stream",
          "text": [
            "a fração restante é de 0.00091\n"
          ],
          "name": "stdout"
        }
      ]
    },
    {
      "cell_type": "markdown",
      "metadata": {
        "id": "oqyEJAOsWgb7"
      },
      "source": [
        "# 3) Indique o número de núcleos de 235U fissionados, por segundo, por nêutrons para que seja gerada uma potência de 150 W. Suponha que Q = 180 MeV."
      ]
    },
    {
      "cell_type": "code",
      "metadata": {
        "id": "_Yl-oa00UD02"
      },
      "source": [
        "def taxa_nucleos_fissionados(P,Q):\n",
        "  return P/Q"
      ],
      "execution_count": 8,
      "outputs": []
    },
    {
      "cell_type": "code",
      "metadata": {
        "id": "W2bvX3bEWmB6",
        "colab": {
          "base_uri": "https://localhost:8080/"
        },
        "outputId": "889927c8-897e-45c3-8903-75c18ab3ad5c"
      },
      "source": [
        "P = 150 # W\n",
        "Q = 180 # MeV\n",
        "\n",
        "R = taxa_nucleos_fissionados(150, 180*10**6*1.6*10**-19)\n",
        "print(f\"R = {round(R/10**12,2)} *10^12 fissões/s\")"
      ],
      "execution_count": 11,
      "outputs": [
        {
          "output_type": "stream",
          "text": [
            "R = 5.21 *10^12 fissões/s\n"
          ],
          "name": "stdout"
        }
      ]
    },
    {
      "cell_type": "markdown",
      "metadata": {
        "id": "YT7X84H_Wsos"
      },
      "source": [
        "# 4) Um nêutron com energia igual a 0,5 MeV é espalhado segundo um ângulo de 60º após colidir com um núcleo de deutério (2H). Determine:"
      ]
    },
    {
      "cell_type": "code",
      "metadata": {
        "id": "Q7nGVnG7XjnS"
      },
      "source": [
        "# dados\n",
        "theta = 60*np.pi/180 # rad\n",
        "E = .5 # MeV\n",
        "A = 2"
      ],
      "execution_count": 12,
      "outputs": []
    },
    {
      "cell_type": "markdown",
      "metadata": {
        "id": "JAidOHOuWwW4"
      },
      "source": [
        "## a) a energia do nêutron espalhado, em MeV;"
      ]
    },
    {
      "cell_type": "code",
      "metadata": {
        "id": "orm_3hdvX4hw"
      },
      "source": [
        "def E_espalhado(A, theta, E): # E'\n",
        "  return (E*(np.cos(theta)+np.sqrt(A**2-(np.sin(theta)**2)))**2)/(A+1)**2"
      ],
      "execution_count": 13,
      "outputs": []
    },
    {
      "cell_type": "code",
      "metadata": {
        "colab": {
          "base_uri": "https://localhost:8080/"
        },
        "id": "jEHZCXapWv4g",
        "outputId": "738e0588-66d3-42d9-94af-a8af9855216d"
      },
      "source": [
        "print(f\"E' = {round(E_espalhado(A, theta, E),3)} MeV\")"
      ],
      "execution_count": 15,
      "outputs": [
        {
          "output_type": "stream",
          "text": [
            "E' = 0.295 MeV\n"
          ],
          "name": "stdout"
        }
      ]
    },
    {
      "cell_type": "markdown",
      "metadata": {
        "id": "xHl_YhdxW0l_"
      },
      "source": [
        "## b) a energia do núcleo recuado, em MeV."
      ]
    },
    {
      "cell_type": "code",
      "metadata": {
        "id": "G3Mj-myaW4yA"
      },
      "source": [
        "def E_recuado(A, theta, E): # EA\n",
        "  return E - E_espalhado(A, theta, E) "
      ],
      "execution_count": 16,
      "outputs": []
    },
    {
      "cell_type": "code",
      "metadata": {
        "colab": {
          "base_uri": "https://localhost:8080/"
        },
        "id": "xMn5a06sY_kL",
        "outputId": "ae9f1808-24c0-4739-c869-964e67d89cff"
      },
      "source": [
        "print(f\"EA = {round(E_recuado(A, theta, E),3)} MeV\")"
      ],
      "execution_count": 18,
      "outputs": [
        {
          "output_type": "stream",
          "text": [
            "EA = 0.205 MeV\n"
          ],
          "name": "stdout"
        }
      ]
    },
    {
      "cell_type": "code",
      "metadata": {
        "id": "LFMSOfVAZJ_i"
      },
      "source": [
        ""
      ],
      "execution_count": null,
      "outputs": []
    }
  ]
}